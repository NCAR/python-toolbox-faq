{
 "cells": [
  {
   "cell_type": "code",
   "execution_count": 1,
   "metadata": {},
   "outputs": [],
   "source": [
    "%matplotlib inline\n",
    "import os\n",
    "from glob import glob\n",
    "\n",
    "import numpy as np\n",
    "import xarray as xr\n",
    "\n",
    "from datetime import datetime\n",
    "\n",
    "import matplotlib.pyplot as plt\n",
    "import matplotlib.colors as colors\n",
    "import cartopy\n",
    "import cartopy.crs as ccrs\n",
    "import cmocean\n",
    "\n",
    "import dask"
   ]
  },
  {
   "cell_type": "markdown",
   "metadata": {},
   "source": [
    "Define a function to fix the plot grid for plotting global maps; this might not be necessary for regional plots, depending on the region."
   ]
  },
  {
   "cell_type": "code",
   "execution_count": 2,
   "metadata": {},
   "outputs": [],
   "source": [
    "def adjust_pop_grid(tlon,tlat,field):\n",
    "    nj = tlon.shape[0]\n",
    "    ni = tlon.shape[1]\n",
    "    xL = int(ni/2 - 1)\n",
    "    xR = int(xL + ni)\n",
    "\n",
    "    tlon = np.where(np.greater_equal(tlon,min(tlon[:,0])),tlon-360.,tlon)\n",
    "    lon  = np.concatenate((tlon,tlon+360.),1)\n",
    "    lon = lon[:,xL:xR]\n",
    "\n",
    "    if ni == 320:\n",
    "        lon[367:-3,0] = lon[367:-3,0]+360.\n",
    "    lon = lon - 360.\n",
    "    lon = np.hstack((lon,lon[:,0:1]+360.))\n",
    "    if ni == 320:\n",
    "        lon[367:,-1] = lon[367:,-1] - 360.\n",
    "\n",
    "    #-- trick cartopy into doing the right thing:\n",
    "    #   it gets confused when the cyclic coords are identical\n",
    "    lon[:,0] = lon[:,0]-1e-8\n",
    "\n",
    "    #-- periodicity\n",
    "    lat  = np.concatenate((tlat,tlat),1)\n",
    "    lat = lat[:,xL:xR]\n",
    "    lat = np.hstack((lat,lat[:,0:1]))\n",
    "\n",
    "    field = np.ma.concatenate((field,field),1)\n",
    "    field = field[:,xL:xR]\n",
    "    field = np.ma.hstack((field,field[:,0:1]))\n",
    "    field = np.ma.masked_where(np.isnan(field),field)\n",
    "\n",
    "    return lon,lat,field"
   ]
  },
  {
   "cell_type": "code",
   "execution_count": 3,
   "metadata": {},
   "outputs": [
    {
     "data": {
      "text/plain": [
       "365"
      ]
     },
     "execution_count": 3,
     "metadata": {},
     "output_type": "execute_result"
    }
   ],
   "source": [
    "case = 'g.e11.G.T62_t12.eco.006'\n",
    "droot = f'/glade/scratch/mclong/hi-res-eco/{case}/ocn/hist'\n",
    "files = sorted(glob(f'{droot}/{case}.pop.h.????-??-??.nc'))\n",
    "len(files)"
   ]
  },
  {
   "cell_type": "code",
   "execution_count": 4,
   "metadata": {},
   "outputs": [],
   "source": [
    "clobber = False\n",
    "os.makedirs('figs', exist_ok=True)\n",
    "def plot(file_in,i):\n",
    "\n",
    "    plot_name = f'figs/{i:03d}.png'\n",
    "    if os.path.exists(plot_name) and not clobber:\n",
    "        return \n",
    "    \n",
    "    #--- patch from https://github.com/SciTools/cartopy/issues/1120\n",
    "    from matplotlib.axes import Axes\n",
    "    from cartopy.mpl.geoaxes import GeoAxes\n",
    "    GeoAxes._pcolormesh_patched = Axes.pcolormesh\n",
    "    \n",
    "    keep_vars = ['O2','TLAT','TLONG']\n",
    "    \n",
    "    datestr = file_in[file_in.find('h.')+2:file_in.find('h.')+12]\n",
    "    \n",
    "    with xr.open_dataset(file_in,decode_times=False,decode_coords=False) as ds:\n",
    "        ds = ds.drop([v for v in ds.variables if v not in keep_vars])\n",
    "        ds = ds.isel(z_t=19,time=0)\n",
    "        lon,lat,field = adjust_pop_grid(ds.TLONG.values,ds.TLAT.values,ds.O2.values)\n",
    "\n",
    "    try:    \n",
    "        extent = [120,290,-30,30]\n",
    "        prj = ccrs.Mercator(central_longitude=np.mean(extent[0:2]),\n",
    "                            min_latitude=extent[2],\n",
    "                            max_latitude=extent[3])\n",
    "\n",
    "        fig = plt.figure(figsize=(24,8))\n",
    "        ax = plt.axes(projection=prj)\n",
    "        ax.set_extent(extent)\n",
    "\n",
    "        pc = ax.pcolormesh(lon,lat,field,\n",
    "                           vmin=0.,vmax=250.,\n",
    "                           cmap = cmocean.cm.delta,\n",
    "                           transform=ccrs.PlateCarree())\n",
    "\n",
    "        ax.set_rasterization_zorder(2)\n",
    "        pc.set_rasterized(True)\n",
    "        pc.set_zorder(1)\n",
    "\n",
    "        land = ax.add_feature(\n",
    "            cartopy.feature.NaturalEarthFeature('physical','land','110m',\n",
    "            edgecolor='face',\n",
    "            facecolor='black'))\n",
    "\n",
    "        ax.set_title('O$_2$ (z = –200 m)',loc='left')\n",
    "        ax.set_title(datestr,loc='right')\n",
    "\n",
    "        cb = plt.colorbar(pc,orientation='vertical',shrink=0.8)\n",
    "        cb.ax.set_title('mmol m$^{-3}$',loc='left')\n",
    "        p = cb.ax.get_position()\n",
    "        cb.ax.set_position([p.x0-0.02,p.y0,p.width,p.height])\n",
    "        plt.savefig(plot_name,dpi=300,bbox_inches='tight')    \n",
    "        plt.close()\n",
    "        \n",
    "    except Exception as e:\n",
    "        print(\"error: %s\" % e)"
   ]
  },
  {
   "cell_type": "code",
   "execution_count": 5,
   "metadata": {},
   "outputs": [],
   "source": [
    "USER = os.environ['USER']\n",
    "PROJECT = os.environ['PBS_ACCOUNT']\n",
    "if True:\n",
    "    from dask.distributed import Client\n",
    "    from dask_jobqueue import PBSCluster\n",
    "\n",
    "    dask.config.set({'distributed.dashboard.link':'http://localhost:{port}/status'})\n",
    "    \n",
    "    project = PROJECT\n",
    "\n",
    "    cluster = PBSCluster(queue='regular',\n",
    "                         cores = 9,\n",
    "                         processes = 9,\n",
    "                         memory = '100GB',          \n",
    "                         project = project,\n",
    "                         walltime = '04:00:00',\n",
    "                         local_directory=f'/glade/scratch/{USER}/dask-tmp')\n",
    "    client = Client(cluster)\n",
    "\n",
    "    Nnodes = 2\n",
    "    cluster.scale(9*Nnodes)"
   ]
  },
  {
   "cell_type": "markdown",
   "metadata": {},
   "source": [
    "PROJECT = os.environ['PBS_ACCOUNT']\n",
    "USER = os.environ['USER']\n",
    "if True:\n",
    "    from dask.distributed import Client\n",
    "    from dask_jobqueue import PBSCluster\n",
    "\n",
    "    project = PROJECT\n",
    "\n",
    "    cluster = PBSCluster(queue='economy',\n",
    "                         cores = 36,\n",
    "                         processes = 1,\n",
    "                         memory = '40GB',          \n",
    "                         project = project,\n",
    "                         walltime = '01:00:00',\n",
    "                         local_directory=f'/glade/scratch/{USER}/dask-tmp')"
   ]
  },
  {
   "cell_type": "markdown",
   "metadata": {},
   "source": [
    "cluster.scale(10)"
   ]
  },
  {
   "cell_type": "code",
   "execution_count": 13,
   "metadata": {},
   "outputs": [
    {
     "name": "stdout",
     "output_type": "stream",
     "text": [
      "\n",
      "chadmin1: \n",
      "                                                            Req'd  Req'd   Elap\n",
      "Job ID          Username Queue    Jobname    SessID NDS TSK Memory Time  S Time\n",
      "--------------- -------- -------- ---------- ------ --- --- ------ ----- - -----\n",
      "3141893.chadmin abanihi  economy  STDIN        3332   1   1    --  02:00 R 01:34\n",
      "3142015.chadmin abanihi  regular  dask-worke  68126   1   1    --  04:00 R 00:00\n",
      "3142016.chadmin abanihi  regular  dask-worke  29452   1   1    --  04:00 R 00:00\n"
     ]
    }
   ],
   "source": [
    "!qstat -u $USER"
   ]
  },
  {
   "cell_type": "code",
   "execution_count": 14,
   "metadata": {},
   "outputs": [],
   "source": [
    "do_delayed = True\n",
    "results = []\n",
    "for i in range(len(files)-1,-1,-1):\n",
    "    if do_delayed:\n",
    "        figo = dask.delayed(plot,pure=True)(files[i],i)\n",
    "        results.append(figo)\n",
    "    else:\n",
    "        plot(files[i],i)\n",
    "        "
   ]
  },
  {
   "cell_type": "code",
   "execution_count": 15,
   "metadata": {},
   "outputs": [],
   "source": [
    "res = dask.compute(*results) "
   ]
  },
  {
   "cell_type": "code",
   "execution_count": null,
   "metadata": {},
   "outputs": [],
   "source": []
  }
 ],
 "metadata": {
  "kernelspec": {
   "display_name": "Python [conda env:pangeo]",
   "language": "python",
   "name": "conda-env-pangeo-py"
  },
  "language_info": {
   "codemirror_mode": {
    "name": "ipython",
    "version": 3
   },
   "file_extension": ".py",
   "mimetype": "text/x-python",
   "name": "python",
   "nbconvert_exporter": "python",
   "pygments_lexer": "ipython3",
   "version": "3.6.6"
  }
 },
 "nbformat": 4,
 "nbformat_minor": 2
}
